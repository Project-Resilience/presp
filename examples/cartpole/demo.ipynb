{
 "cells": [
  {
   "cell_type": "markdown",
   "metadata": {},
   "source": [
    "# CartPole Example"
   ]
  },
  {
   "cell_type": "code",
   "execution_count": null,
   "metadata": {},
   "outputs": [],
   "source": [
    "import csv\n",
    "import json\n",
    "from pathlib import Path\n",
    "\n",
    "import gymnasium\n",
    "import pandas as pd\n",
    "import torch\n",
    "import yaml\n",
    "\n",
    "from examples.cartpole.direct_evaluator import CartPoleEvaluator\n",
    "from examples.cartpole.cartpole_prescriptor import CartPolePrescriptor\n",
    "from presp.prescriptor import NNPrescriptorFactory\n",
    "from presp.evolution import Evolution"
   ]
  },
  {
   "cell_type": "markdown",
   "metadata": {},
   "source": [
    "## Load Config\n",
    "First we load the config using pyyaml.\n",
    "We can view the config here and see we have evolution params, prescriptor params, and eval params.\n",
    "The evolution params go directly into the evolution object from presp, the prescriptor params are used in the prescriptor factory to generate candidate prescriptors, and the eval params are used to customize evaluation."
   ]
  },
  {
   "cell_type": "code",
   "execution_count": null,
   "metadata": {},
   "outputs": [],
   "source": [
    "with open(\"examples/cartpole/config.yml\", \"r\", encoding=\"utf-8\") as f:\n",
    "    config = yaml.safe_load(f)\n",
    "\n",
    "print(json.dumps(config, sort_keys=False, indent=4))"
   ]
  },
  {
   "cell_type": "markdown",
   "metadata": {},
   "source": [
    "## Factory and Evaluator\n",
    "These are the 2 objects that must be implemented in order to run evolution. Please see the corresponding files in order to see how they are implemented. This is just a simple implementation to show the full evolution process."
   ]
  },
  {
   "cell_type": "code",
   "execution_count": null,
   "metadata": {},
   "outputs": [],
   "source": [
    "factory = NNPrescriptorFactory(CartPolePrescriptor, **config[\"prescriptor_params\"])\n",
    "evaluator = CartPoleEvaluator(**config[\"eval_params\"])"
   ]
  },
  {
   "cell_type": "markdown",
   "metadata": {},
   "source": [
    "## Evolution\n",
    "Finally, we call presp with the config, factory, and evaluator to run the evolution process. With just 10 generations we should be able to solve a simple problem like CartPole."
   ]
  },
  {
   "cell_type": "code",
   "execution_count": null,
   "metadata": {},
   "outputs": [],
   "source": [
    "evolution = Evolution(prescriptor_factory=factory, evaluator=evaluator, **config[\"evolution_params\"])\n",
    "evolution.run_evolution()"
   ]
  },
  {
   "cell_type": "markdown",
   "metadata": {},
   "source": [
    "## Visualization\n",
    "Now we can look at the results of evolution"
   ]
  },
  {
   "cell_type": "markdown",
   "metadata": {},
   "source": [
    "This snippet runs the environment using a random acting agent"
   ]
  },
  {
   "cell_type": "code",
   "execution_count": null,
   "metadata": {},
   "outputs": [],
   "source": [
    "env = gymnasium.make(\"CartPole-v1\", render_mode=\"human\")\n",
    "\n",
    "# Random agent\n",
    "obs, _ = env.reset()\n",
    "for i in range(300):\n",
    "    action = env.action_space.sample()\n",
    "    obs, _, done, _, _ = env.step(action)\n",
    "    env.render()\n",
    "    if done:\n",
    "        print(f\"Random actions lasted {i} steps\")\n",
    "        break\n",
    "env.close()"
   ]
  },
  {
   "cell_type": "markdown",
   "metadata": {},
   "source": [
    "And this one uses our best prescriptor. We can see it (more or less) solved the problem in just 10 generations."
   ]
  },
  {
   "cell_type": "code",
   "execution_count": null,
   "metadata": {},
   "outputs": [],
   "source": [
    "# Our agent\n",
    "save_path = Path(config[\"evolution_params\"][\"save_path\"])\n",
    "results_df = pd.read_csv(save_path / \"results.csv\")\n",
    "best_cand_id = results_df[results_df[\"gen\"] == results_df[\"gen\"].max()][\"cand_id\"].values[0]\n",
    "print(best_cand_id)\n",
    "\n",
    "pop_dict = factory.load_population(save_path / \"population\")\n",
    "best_cand = pop_dict[best_cand_id]\n",
    "env = gymnasium.make(\"CartPole-v1\", render_mode=\"human\")\n",
    "obs, _ = env.reset()\n",
    "for i in range(300):\n",
    "    action = best_cand.forward(obs)\n",
    "    obs, _, done, _, _ = env.step(action)\n",
    "    env.render()\n",
    "    if done:\n",
    "        print(f\"Agent lasted {i} steps\")\n",
    "        break\n",
    "env.close()\n",
    "\n",
    "if i == 299:\n",
    "    print(\"Agent won!\")"
   ]
  }
 ],
 "metadata": {
  "kernelspec": {
   "display_name": "sustain",
   "language": "python",
   "name": "python3"
  },
  "language_info": {
   "codemirror_mode": {
    "name": "ipython",
    "version": 3
   },
   "file_extension": ".py",
   "mimetype": "text/x-python",
   "name": "python",
   "nbconvert_exporter": "python",
   "pygments_lexer": "ipython3",
   "version": "3.10.15"
  }
 },
 "nbformat": 4,
 "nbformat_minor": 2
}
