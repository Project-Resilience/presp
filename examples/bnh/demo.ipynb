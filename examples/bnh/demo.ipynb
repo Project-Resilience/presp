{
 "cells": [
  {
   "cell_type": "markdown",
   "metadata": {},
   "source": [
    "# BNH Function Demo"
   ]
  },
  {
   "cell_type": "code",
   "execution_count": null,
   "metadata": {},
   "outputs": [],
   "source": [
    "from pathlib import Path\n",
    "import shutil\n",
    "\n",
    "import matplotlib.pyplot as plt\n",
    "import numpy as np\n",
    "import pandas as pd\n",
    "import yaml\n",
    "\n",
    "from examples.bnh.bnh_evaluator import BNHEvaluator\n",
    "from presp.evolution import Evolution\n",
    "from presp.prescriptor import DirectFactory"
   ]
  },
  {
   "cell_type": "markdown",
   "metadata": {},
   "source": [
    "## Run Evolution"
   ]
  },
  {
   "cell_type": "code",
   "execution_count": null,
   "metadata": {},
   "outputs": [],
   "source": [
    "with open(\"examples/bnh/config.yml\", \"r\") as f:\n",
    "    config = yaml.safe_load(f)\n",
    "\n",
    "prescriptor_factory = DirectFactory(np.array(config[\"prescriptor_params\"][\"xl\"]),\n",
    "                                    np.array(config[\"prescriptor_params\"][\"xu\"]))\n",
    "\n",
    "evaluator = BNHEvaluator()"
   ]
  },
  {
   "cell_type": "code",
   "execution_count": null,
   "metadata": {},
   "outputs": [],
   "source": [
    "evolution = Evolution(**config[\"evolution_params\"],\n",
    "                      prescriptor_factory=prescriptor_factory,\n",
    "                      evaluator=evaluator)"
   ]
  },
  {
   "cell_type": "code",
   "execution_count": null,
   "metadata": {},
   "outputs": [],
   "source": [
    "evolution.run_evolution()"
   ]
  },
  {
   "cell_type": "markdown",
   "metadata": {},
   "source": [
    "## Show Function Space"
   ]
  },
  {
   "cell_type": "code",
   "execution_count": null,
   "metadata": {},
   "outputs": [],
   "source": [
    "RESULTS_DIR = Path(config[\"evolution_params\"][\"save_path\"])\n",
    "N_GENERATIONS = config[\"evolution_params\"][\"n_generations\"]"
   ]
  },
  {
   "cell_type": "code",
   "execution_count": null,
   "metadata": {},
   "outputs": [],
   "source": [
    "def get_optimal_solutions():\n",
    "    x1a = np.arange(0, 3, 0.1)\n",
    "    x1b = np.arange(3, 5, 0.1)\n",
    "\n",
    "    x2a = np.arange(0, 3, 0.1)\n",
    "    x2b = np.zeros(len(x1b)) + 3\n",
    "\n",
    "    x1 = np.concatenate((x1a, x1b))\n",
    "    x2 = np.concatenate((x2a, x2b))\n",
    "    return x1, x2\n",
    "\n",
    "def plot_optimal_pareto(ax: plt.Axes, evaluator: BNHEvaluator):\n",
    "    x1, x2 = get_optimal_solutions()\n",
    "\n",
    "    f1 = evaluator.f1(x1, x2)\n",
    "    f2 = evaluator.f2(x1, x2)\n",
    "\n",
    "    ax.plot(f1, f2, color=\"red\", label=\"Optimal Pareto Front\")\n",
    "    return ax"
   ]
  },
  {
   "cell_type": "code",
   "execution_count": null,
   "metadata": {},
   "outputs": [],
   "source": [
    "def plot_pareto(ax: plt.Axes, results_dir: Path, n_generations: int):\n",
    "    pareto_df = pd.read_csv(results_dir / \"results.csv\")\n",
    "    pareto_df = pareto_df[pareto_df[\"gen\"] == n_generations]\n",
    "    pareto_df = pareto_df[pareto_df[\"rank\"] == 1]\n",
    "\n",
    "    ax.scatter(pareto_df[\"f1\"], pareto_df[\"f2\"])\n",
    "\n",
    "    return ax\n",
    "\n",
    "fig, ax = plt.subplots()\n",
    "ax = plot_optimal_pareto(ax, evaluator)\n",
    "ax = plot_pareto(ax, RESULTS_DIR, N_GENERATIONS)\n",
    "\n",
    "ax.set_xlabel(\"f1\")\n",
    "ax.set_ylabel(\"f2\")\n",
    "ax.set_title(\"Pareto Front\")\n",
    "ax.legend()\n",
    "plt.show()"
   ]
  },
  {
   "cell_type": "markdown",
   "metadata": {},
   "source": [
    "We can see here that we find almost the entire optimal Pareto front."
   ]
  },
  {
   "cell_type": "markdown",
   "metadata": {},
   "source": [
    "## Plot the Search Space"
   ]
  },
  {
   "cell_type": "code",
   "execution_count": null,
   "metadata": {},
   "outputs": [],
   "source": [
    "def plot_optimal(ax: plt.Axes):\n",
    "    ax.plot(*get_optimal_solutions(), color=\"red\", label=\"Optimal\")\n",
    "    ax.hlines(y=3, xmin=3, xmax=5, color=\"red\")\n",
    "    ax.legend()\n",
    "    return ax\n",
    "\n",
    "def plot_cand_solutions(ax: plt.Axes, results_dir: Path, gens: list[int], prescriptor_factory: DirectFactory):\n",
    "    x1_col = []\n",
    "    x2_col = []\n",
    "    gen_col = []\n",
    "    seen = set()\n",
    "    results_df = pd.read_csv(results_dir / \"results.csv\")\n",
    "    pop_dict = prescriptor_factory.load_population(results_dir / \"population\")\n",
    "    for gen in gens:\n",
    "        df = results_df[results_df[\"gen\"] == gen]\n",
    "        pareto_ids = df[df[\"rank\"] == 1][\"cand_id\"].tolist()\n",
    "        for pareto_id in pareto_ids:\n",
    "            if pareto_id not in seen:\n",
    "                cand = pop_dict[pareto_id]\n",
    "                x1_col.append(cand.genome[0])\n",
    "                x2_col.append(cand.genome[1])\n",
    "                gen_col.append(gen)\n",
    "                seen.add(pareto_id)\n",
    "\n",
    "    scatter = ax.scatter(x1_col, x2_col, c=gen_col, cmap=\"viridis\", label=\"Candidate Solutions\")\n",
    "    ax.figure.colorbar(scatter, ax=ax, label=\"Generation\")\n",
    "    return ax\n",
    "\n",
    "fig, ax = plt.subplots()\n",
    "ax.set_title(\"BNH Problem\")\n",
    "ax.set_xlabel(\"x1\")\n",
    "ax.set_ylabel(\"x2\")\n",
    "\n",
    "ax = plot_cand_solutions(ax,\n",
    "                         RESULTS_DIR, \n",
    "                         [1, 10, 20, 30, 40, 50, 100, 200, 300, 400],\n",
    "                         prescriptor_factory)\n",
    "ax = plot_optimal(ax)\n",
    "plt.show()"
   ]
  },
  {
   "cell_type": "markdown",
   "metadata": {},
   "source": [
    "We can see over time our candidates converge to the true optimal solutions."
   ]
  },
  {
   "cell_type": "code",
   "execution_count": null,
   "metadata": {},
   "outputs": [],
   "source": [
    "# Cleanup after\n",
    "shutil.rmtree(RESULTS_DIR)"
   ]
  }
 ],
 "metadata": {
  "kernelspec": {
   "display_name": "sustain",
   "language": "python",
   "name": "python3"
  },
  "language_info": {
   "codemirror_mode": {
    "name": "ipython",
    "version": 3
   },
   "file_extension": ".py",
   "mimetype": "text/x-python",
   "name": "python",
   "nbconvert_exporter": "python",
   "pygments_lexer": "ipython3",
   "version": "3.10.15"
  }
 },
 "nbformat": 4,
 "nbformat_minor": 2
}
